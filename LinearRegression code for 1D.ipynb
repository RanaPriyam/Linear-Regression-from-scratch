{
 "cells": [
  {
   "cell_type": "code",
   "execution_count": 1,
   "metadata": {},
   "outputs": [],
   "source": [
    "#using diabetes dataset by taking its age column as the 1D input\n",
    "import numpy as np\n",
    "import pandas as pd\n",
    "data=np.loadtxt(\"D:\\Downloads\\diabetesData.csv\",delimiter=\",\")\n",
    "#diabetes=pd.read_csv(\"0000000000002329_training_diabetes_x_y_train.csv\")\n",
    "X=data[:,0] \n",
    "Y=data[:,10]\n",
    "#print(X.shape,Y.shape)"
   ]
  },
  {
   "cell_type": "code",
   "execution_count": 2,
   "metadata": {},
   "outputs": [],
   "source": [
    "from sklearn import model_selection\n",
    "X_train,X_test,Y_train,Y_test=model_selection.train_test_split(X,Y)"
   ]
  },
  {
   "cell_type": "code",
   "execution_count": 3,
   "metadata": {},
   "outputs": [],
   "source": [
    "def fit(x,y):\n",
    "    num=(x*y).mean()-x.mean()*y.mean()\n",
    "    den=(x**2).mean()-x.mean()*x.mean()\n",
    "    m=num/den\n",
    "    c=y.mean()-(m*x).mean()\n",
    "    return m,c"
   ]
  },
  {
   "cell_type": "code",
   "execution_count": 4,
   "metadata": {},
   "outputs": [],
   "source": [
    "def predict(x,m,c):\n",
    "    return x*m+c"
   ]
  },
  {
   "cell_type": "code",
   "execution_count": 5,
   "metadata": {},
   "outputs": [],
   "source": [
    "def score(y_test,y_pred):\n",
    "    u=((y_test-y_pred)**2).sum()\n",
    "    v=((y_test-y_test.mean())**2).sum()\n",
    "    return 1-u/v"
   ]
  },
  {
   "cell_type": "code",
   "execution_count": 6,
   "metadata": {},
   "outputs": [],
   "source": [
    "def cost(y_test,y_pred):\n",
    "    return ((y_test-y_pred)**2).mean()"
   ]
  },
  {
   "cell_type": "code",
   "execution_count": 7,
   "metadata": {},
   "outputs": [
    {
     "name": "stdout",
     "output_type": "stream",
     "text": [
      "My LR's m and c: 205.06429597826983 147.16222508451742\n",
      "My LR's test score: 0.01721362959986772\n",
      "My LR's average cost: 7082.382571326729\n"
     ]
    }
   ],
   "source": [
    "m,c=fit(X_train,Y_train)\n",
    "Y_pred=predict(X_test,m,c)\n",
    "score_test=score(Y_test,Y_pred)\n",
    "avg_cost=cost(Y_test,Y_pred)\n",
    "print(\"My LR's m and c:\",m,c)\n",
    "print(\"My LR's test score:\",score_test)\n",
    "print(\"My LR's average cost:\",avg_cost)"
   ]
  },
  {
   "cell_type": "code",
   "execution_count": 8,
   "metadata": {},
   "outputs": [
    {
     "name": "stdout",
     "output_type": "stream",
     "text": [
      "sklearn's LR's m and c: 205.06429597826983 147.16222508451742\n",
      "sklearn's LR's test score: 0.01721362959986772\n"
     ]
    }
   ],
   "source": [
    "from sklearn.linear_model import LinearRegression\n",
    "alg1=LinearRegression()\n",
    "X_train=X_train.reshape(-1,1)#converting to 2d array for fitting\n",
    "alg1.fit(X_train,Y_train)\n",
    "X_test=X_test.reshape(-1,1)#converting to 2d array for cal score\n",
    "print(\"sklearn's LR's m and c:\",alg1.coef_[0],alg1.intercept_)\n",
    "print(\"sklearn's LR's test score:\",alg1.score(X_test,Y_test))"
   ]
  }
 ],
 "metadata": {
  "kernelspec": {
   "display_name": "Python 3",
   "language": "python",
   "name": "python3"
  },
  "language_info": {
   "codemirror_mode": {
    "name": "ipython",
    "version": 3
   },
   "file_extension": ".py",
   "mimetype": "text/x-python",
   "name": "python",
   "nbconvert_exporter": "python",
   "pygments_lexer": "ipython3",
   "version": "3.6.5"
  }
 },
 "nbformat": 4,
 "nbformat_minor": 2
}
